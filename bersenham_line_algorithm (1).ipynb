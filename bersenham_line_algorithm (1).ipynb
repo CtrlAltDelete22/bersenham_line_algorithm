{
 "cells": [
  {
   "cell_type": "markdown",
   "id": "25e98034-b917-40b8-b670-856b90c780da",
   "metadata": {},
   "source": [
    "#import libraries"
   ]
  },
  {
   "cell_type": "code",
   "execution_count": 10,
   "id": "e965ed7c-2115-477b-81b0-2c9ff9c9f3f3",
   "metadata": {},
   "outputs": [],
   "source": [
    "import numpy as np\n",
    "import cv2"
   ]
  },
  {
   "cell_type": "markdown",
   "id": "c6801ee7-65cd-4424-8c8b-dae20c85f632",
   "metadata": {},
   "source": [
    "#Define bersenham_line_algorithm function"
   ]
  },
  {
   "cell_type": "code",
   "execution_count": 11,
   "id": "e1b153c2-db04-402d-a378-c9d9ee2f6be1",
   "metadata": {},
   "outputs": [],
   "source": [
    "def bersenham_line(x1,y1,x2,y2,img):\n",
    "    #calculate the distance between two point\n",
    "    \n",
    "    dx = x2 - x1\n",
    "    dy = y2 - y1\n",
    "    \n",
    "    step = max(abs(dx),abs(dy))\n",
    "    #avoid devisions by zero\n",
    "    if step != 0:\n",
    "        #calculate how much we want to move on x and y axis in each step\n",
    "        stepX = dx/step\n",
    "        stepY = dy/step\n",
    "        \n",
    "        #iterate over each pixel and addwhite color to it\n",
    "        for i in range(step + 1):\n",
    "            x = round(x1 + i * stepX)\n",
    "            y = round(y1 + i * stepY)\n",
    "            img[y,x] = 255\n",
    "    return img   \n",
    "    \n",
    "            "
   ]
  },
  {
   "cell_type": "markdown",
   "id": "2f707720-5b55-4310-b855-e1873399c85d",
   "metadata": {},
   "source": [
    "create a blank image and show our bersenham line"
   ]
  },
  {
   "cell_type": "code",
   "execution_count": 12,
   "id": "86496190-bc85-4c4d-9374-f59ac0400bf9",
   "metadata": {},
   "outputs": [],
   "source": [
    "# create a 512*512 black image\n",
    "img = np.zeros((512,512),dtype= np.uint8)\n",
    "\n",
    "#call our bersenham function\n",
    "img = bersenham_line(50,100,300,400,img)\n",
    "\n",
    "#show our image\n",
    "cv2.imshow('bersenham line img', img)\n",
    "cv2.waitKey(0)\n",
    "cv2.destroyAllWindows()"
   ]
  }
 ],
 "metadata": {
  "kernelspec": {
   "display_name": "Python 3 (ipykernel)",
   "language": "python",
   "name": "python3"
  },
  "language_info": {
   "codemirror_mode": {
    "name": "ipython",
    "version": 3
   },
   "file_extension": ".py",
   "mimetype": "text/x-python",
   "name": "python",
   "nbconvert_exporter": "python",
   "pygments_lexer": "ipython3",
   "version": "3.11.7"
  }
 },
 "nbformat": 4,
 "nbformat_minor": 5
}
